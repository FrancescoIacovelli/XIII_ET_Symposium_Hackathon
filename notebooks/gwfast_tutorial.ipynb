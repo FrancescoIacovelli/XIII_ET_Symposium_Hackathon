{
 "cells": [
  {
   "cell_type": "markdown",
   "metadata": {},
   "source": [
    "![alt text](<https://www.et-gw.eu/images/et-new-logo.png>)\n",
    "\n",
    "#  XIII ET Symposium Hakathon session\n",
    "\n",
    "\n",
    "#### Tutorial on ``gwfast``\n",
    "\n",
    "This notebook is a simple tutorial to start playing around with the ``gwfast`` software, which is suitable for SNR and Fisher-matrix based parameter estimation forecasts on large catalogues of events.\n",
    "\n"
   ]
  },
  {
   "cell_type": "markdown",
   "metadata": {},
   "source": [
    "## Installation for Google Colab"
   ]
  },
  {
   "cell_type": "code",
   "execution_count": null,
   "metadata": {},
   "outputs": [],
   "source": [
    "#! pip install -q 'git+https://github.com/CosmoStatGW/gwfast' "
   ]
  },
  {
   "cell_type": "code",
   "execution_count": null,
   "metadata": {},
   "outputs": [],
   "source": [
    "#! pip install -q corner"
   ]
  },
  {
   "cell_type": "markdown",
   "metadata": {},
   "source": [
    "**Note**: Using Google Colab, you need to restart the kernel runtime after installation."
   ]
  },
  {
   "cell_type": "markdown",
   "metadata": {},
   "source": [
    "## Now import some packages"
   ]
  },
  {
   "cell_type": "code",
   "execution_count": null,
   "metadata": {},
   "outputs": [],
   "source": [
    "import os\n",
    "import numpy as np\n",
    "import matplotlib.pyplot as plt\n",
    "import matplotlib\n",
    "import h5py\n",
    "\n",
    "import copy\n",
    "from astropy.cosmology import Planck18"
   ]
  },
  {
   "cell_type": "code",
   "execution_count": 2,
   "metadata": {},
   "outputs": [],
   "source": [
    "from gwfast import gwfastGlobals as glob\n",
    "\n",
    "from gwfast.waveforms import IMRPhenomD_NRTidalv2, TaylorF2_RestrictedPN\n",
    "from gwfast.signal import GWSignal\n",
    "from gwfast.network import DetNet\n",
    "from gwfast.fisherTools import CovMatr, compute_localization_region, check_covariance, fixParams\n",
    "from gwfast import gwfastUtils as utils"
   ]
  },
  {
   "cell_type": "markdown",
   "metadata": {},
   "source": [
    "## COMPLETE EXAMPLE: GW170817 @ ET!"
   ]
  },
  {
   "cell_type": "markdown",
   "metadata": {},
   "source": [
    "###  We use the Sardinia site for definiteness"
   ]
  },
  {
   "cell_type": "code",
   "execution_count": null,
   "metadata": {},
   "outputs": [],
   "source": [
    "alldetectors = copy.deepcopy(glob.detectors)\n",
    "print('All available detectors are: '+str(list(alldetectors.keys())))\n",
    "\n",
    "# select only ET in Sardinia\n",
    "ETSdet = {det:alldetectors[det] for det in ['ETS']}\n",
    "print('Using detector '+str(list(ETSdet.keys())))\n"
   ]
  },
  {
   "cell_type": "code",
   "execution_count": 4,
   "metadata": {},
   "outputs": [],
   "source": [
    "# We use the ET-D psds\n",
    "ETSdet['ETS']['psd_path'] = os.path.join(glob.detPath, 'ET-0000A-18.txt')"
   ]
  },
  {
   "cell_type": "markdown",
   "metadata": {},
   "source": [
    "### Initialise the signals and then the network \n",
    "(in this case we have a single triangular detector, but we will see later why this syntax is useful)"
   ]
  },
  {
   "cell_type": "code",
   "execution_count": null,
   "metadata": {},
   "outputs": [],
   "source": [
    "mywf = IMRPhenomD_NRTidalv2(fRef=50.)\n",
    "\n",
    "mySignals = {}\n",
    "\n",
    "for d in ETSdet.keys():\n",
    "\n",
    "    mySignals[d] = GWSignal(mywf, \n",
    "                psd_path=ETSdet[d]['psd_path'],\n",
    "                detector_shape = ETSdet[d]['shape'],\n",
    "                det_lat= ETSdet[d]['lat'],\n",
    "                det_long=ETSdet[d]['long'],\n",
    "                det_xax=ETSdet[d]['xax'], \n",
    "                verbose=False,\n",
    "                useEarthMotion = True,\n",
    "                fmax=1024.,\n",
    "                fmin=2.) \n",
    "        \n",
    "myNet = DetNet(mySignals, verbose=False)      "
   ]
  },
  {
   "cell_type": "markdown",
   "metadata": {},
   "source": [
    "### Now we build a dictionary containing the parameters of GW170817"
   ]
  },
  {
   "cell_type": "code",
   "execution_count": null,
   "metadata": {},
   "outputs": [],
   "source": [
    "# Median values of the posterior samples for all the parameters, \n",
    "# except psi and the coalescence phase that are set to 0\n",
    "\n",
    "z = np.array([0.00980])\n",
    "tGPS = np.array([1187008882.4])\n",
    "\n",
    "GW170817 = {'Mc':np.array([1.1859])*(1.+z), \n",
    "            'dL':Planck18.luminosity_distance(z).value/1000., \n",
    "            'theta':np.array([np.pi/2. + 0.4080839999999999]), \n",
    "            'phi':np.array([3.4461599999999994]),\n",
    "            'iota':np.array([2.545065595974997]), \n",
    "            'psi':np.array([0.]),\n",
    "            'tcoal':utils.GPSt_to_LMST(tGPS, lat=0., long=0.), # GMST is LMST computed at long = 0° \n",
    "            'eta':np.array([0.24786618323504223]), \n",
    "            'Phicoal':np.array([0.]), \n",
    "            'chi1z':np.array([0.005136138323169717]), \n",
    "            'chi2z':np.array([0.003235146993487445]), \n",
    "            'Lambda1':np.array([368.17802383555687]), \n",
    "            'Lambda2':np.array([586.5487031450857])\n",
    "           }\n",
    "GW170817['LambaTilde'], GW170817['deltaLambda'] = utils.Lamt_delLam_from_Lam12(GW170817['Lambda1'], GW170817['Lambda2'], GW170817['eta'])\n",
    "print('Parameters for GW170817 are:')\n",
    "GW170817"
   ]
  },
  {
   "cell_type": "markdown",
   "metadata": {},
   "source": [
    "### Let's see how the signal looks like at one of the interferometers"
   ]
  },
  {
   "cell_type": "code",
   "execution_count": null,
   "metadata": {},
   "outputs": [],
   "source": [
    "# first define the frequency grid\n",
    "fmax = mywf.fcut(**GW170817)-10 # We do not get to the cut this way\n",
    "fgrid = np.geomspace(1.,fmax,10000)\n",
    "\n",
    "AmplatET_p, AmplatET_c = myNet.signals['ETS'].GWAmplitudes(GW170817, fgrid, rot=120.)"
   ]
  },
  {
   "cell_type": "code",
   "execution_count": null,
   "metadata": {},
   "outputs": [],
   "source": [
    "fig, ax = plt.subplots(figsize=(12,6))\n",
    "\n",
    "ax.plot(fgrid, 2.*np.sqrt(fgrid)*np.sqrt(AmplatET_p**2 + AmplatET_c**2), linewidth=2., label='GW170817')\n",
    "ax.plot(myNet.signals['ETS'].strainFreq, np.sqrt(myNet.signals['ETS'].noiseCurve), color='C2', linewidth=2., label='ET-D ASD')\n",
    "\n",
    "ax.set_xlim(1.,fmax)\n",
    "ax.set_ylim(1e-25, 1e-20)\n",
    "ax.set_xscale('log')\n",
    "ax.set_yscale('log')\n",
    "ax.set_xlabel('f [Hz]', fontsize=15)\n",
    "ax.set_ylabel(r'$2 \\ |\\tilde{h}| \\ \\sqrt{f}\\ [Hz^{-1/2}]$', fontsize=15)\n",
    "plt.grid(linestyle='dotted', linewidth='0.6', which='both')\n",
    "ax.legend(loc='upper right', fontsize=15, ncol=1, fancybox=True)\n",
    "\n",
    "plt.show()"
   ]
  },
  {
   "cell_type": "code",
   "execution_count": null,
   "metadata": {},
   "outputs": [],
   "source": [
    "# Compute the time to coalescence\n",
    "ft = 2.\n",
    "t_to_coal = mywf.tau_star(ft,**GW170817)\n",
    "print('The time to coalescence at %d Hz is %.0f hours!'%(ft, t_to_coal/(3600.)))"
   ]
  },
  {
   "cell_type": "code",
   "execution_count": null,
   "metadata": {},
   "outputs": [],
   "source": [
    "# Plot the time to coalescence\n",
    "fig, ax = plt.subplots(figsize=(12,6))\n",
    "conv_to_hours = 3600.\n",
    "ax.plot(fgrid[:,0], mywf.tau_star(fgrid[:,0],**GW170817) / conv_to_hours, linewidth=2.)\n",
    "\n",
    "ax.set_xlim(1.,fgrid[:,0][-1])\n",
    "ax.set_xscale('log')\n",
    "ax.set_xlabel('f [Hz]', fontsize=15)\n",
    "ax.set_ylabel(r'time to coalescence [hours]', fontsize=15)\n",
    "plt.grid(linestyle='dotted', linewidth='0.6', which='both')\n",
    "\n",
    "plt.show()"
   ]
  },
  {
   "cell_type": "markdown",
   "metadata": {},
   "source": [
    "### Compute the expected matched-filter SNR"
   ]
  },
  {
   "cell_type": "code",
   "execution_count": null,
   "metadata": {},
   "outputs": [],
   "source": [
    "SNR = myNet.SNR(GW170817)\n",
    "print('SNR for GW170817 at ET is %.2f'%SNR[0])"
   ]
  },
  {
   "cell_type": "markdown",
   "metadata": {},
   "source": [
    "### Compute the total Fisher matrix"
   ]
  },
  {
   "cell_type": "code",
   "execution_count": null,
   "metadata": {},
   "outputs": [],
   "source": [
    "totF = myNet.FisherMatr(GW170817)\n",
    "print('The computed Fisher matrix has shape %s'%str(totF.shape))"
   ]
  },
  {
   "cell_type": "code",
   "execution_count": null,
   "metadata": {},
   "outputs": [],
   "source": [
    "# Check e.g. that the (dL,dL) element corresponds to (SNR/dL)^2\n",
    "ParNums = mywf.ParNums\n",
    "dL_Num = ParNums['dL']\n",
    "print('The relative difference is %.2e !'%((1 - totF[ParNums['dL'],ParNums['dL'],:]/(SNR/GW170817['dL'])**2)[0]))\n"
   ]
  },
  {
   "cell_type": "markdown",
   "metadata": {},
   "source": [
    "### Compute the covariance and perform some checks"
   ]
  },
  {
   "cell_type": "code",
   "execution_count": 11,
   "metadata": {},
   "outputs": [],
   "source": [
    "totCov, inversion_err = CovMatr(totF)\n"
   ]
  },
  {
   "cell_type": "code",
   "execution_count": null,
   "metadata": {},
   "outputs": [],
   "source": [
    "_ = check_covariance(totF, totCov)\n"
   ]
  },
  {
   "cell_type": "markdown",
   "metadata": {},
   "source": [
    "### Now try to eliminate the row corresponding to $\\delta\\tilde{\\Lambda}$, and see that the inversion error lowers"
   ]
  },
  {
   "cell_type": "code",
   "execution_count": null,
   "metadata": {},
   "outputs": [],
   "source": [
    "ParNums = mywf.ParNums\n",
    "\n",
    "newFish, newPars = fixParams(totF, ParNums, ['deltaLambda'])\n",
    "\n",
    "print('Now the Fisher matrix has shape %s'%str(newFish.shape))\n",
    "\n",
    "newCov, new_inversion_err = CovMatr(newFish)\n",
    "\n",
    "_ = check_covariance(newFish, newCov)\n"
   ]
  },
  {
   "cell_type": "markdown",
   "metadata": {},
   "source": [
    "### Finally compute the localisation region"
   ]
  },
  {
   "cell_type": "code",
   "execution_count": null,
   "metadata": {},
   "outputs": [],
   "source": [
    "skyArea = compute_localization_region(newCov, newPars, GW170817['theta'])\n",
    "print('The estimated sky location is %.2f deg^2'%skyArea)\n"
   ]
  },
  {
   "attachments": {},
   "cell_type": "markdown",
   "metadata": {},
   "source": [
    "### Let's make a corner plot to visualize the result"
   ]
  },
  {
   "cell_type": "code",
   "execution_count": null,
   "metadata": {},
   "outputs": [],
   "source": [
    "from corner import corner"
   ]
  },
  {
   "cell_type": "code",
   "execution_count": null,
   "metadata": {},
   "outputs": [],
   "source": [
    "CORNER_KWARGS = dict(\n",
    "    bins = 50, # number of bins for histograms\n",
    "    smooth = 0.99, # smooths out contours. \n",
    "    plot_datapoints = True, # choose if you want datapoints\n",
    "    label_kwargs = dict(fontsize = 12), # font size for labels\n",
    "    show_titles = True, #choose if you want titles on top of densities.\n",
    "    title_kwargs = dict(fontsize = 12), # font size for title\n",
    "    plot_density = False,\n",
    "    title_quantiles = [0.16, 0.5, 0.84],  # add quantiles to plot densities for 1d hist\n",
    "    levels = (1 - np.exp(-0.5), 1 - np.exp(-2), 1 - np.exp(-9 / 2.)), # 1, 2 and 3 sigma contours for 2d plots\n",
    "    fill_contours = True, #decide if you want to fill the contours\n",
    "    max_n_ticks = 2, # set a limit to ticks in the x-y axes.\n",
    "    title_fmt=\".3f\"\n",
    "    )\n",
    "corner_lbs = [r'${\\cal M}_c$ $[M_{\\odot}]$', '$\\eta$', '$d_L$ [Gpc]', '$\\theta$ $[rad]$', '$\\phi$ $[rad]$', \n",
    "                '$\\iota$ [rad]', '$\\psi$ [rad]', '$t_c$ [s]', '$\\Phi_c$ [rad]', '$\\chi_{1,z}$', '$\\chi_{1,z}$', '$\\\\tilde{\\Lambda}$']\n",
    "mean_values = [GW170817['Mc'][0], GW170817['eta'][0], \\\n",
    "               GW170817['dL'][0], GW170817['theta'][0], GW170817['phi'][0], \\\n",
    "               GW170817['iota'][0], GW170817['psi'][0], GW170817['tcoal'][0], GW170817['Phicoal'][0], \\\n",
    "               GW170817['chi1z'][0], GW170817['chi2z'][0], GW170817['LambaTilde'][0]]\n",
    "\n",
    "# Sample from a multi-variate gaussian with the given covariance matrix and injected mean values\n",
    "samples = np.random.multivariate_normal(mean_values, newCov[:,:,0], int(1e5))\n",
    "fig = corner(samples, labels = corner_lbs, truths = mean_values, truth_color = 'red',\n",
    "                    **CORNER_KWARGS)\n",
    "plt.show()"
   ]
  },
  {
   "attachments": {},
   "cell_type": "markdown",
   "metadata": {},
   "source": [
    "## COMPLETE EXAMPLE: a BNS population @ ET!\n"
   ]
  },
  {
   "attachments": {},
   "cell_type": "markdown",
   "metadata": {},
   "source": [
    "### Load the data (if you are curious about the generation, just ask!)"
   ]
  },
  {
   "cell_type": "code",
   "execution_count": null,
   "metadata": {},
   "outputs": [],
   "source": [
    "import pandas as pd\n",
    "\n",
    "data_url = 'https://raw.githubusercontent.com/FrancescoIacovelli/XIII_ET_Symposium_Hakathon/main/data/BNS_100ev_pop.csv'\n",
    "\n",
    "df = pd.read_csv(data_url, delimiter=',')\n",
    "df"
   ]
  },
  {
   "cell_type": "code",
   "execution_count": null,
   "metadata": {},
   "outputs": [],
   "source": [
    "# Translate into a dictionary for GWFAST\n",
    "evsdict = df.to_dict('list')\n",
    "for key in evsdict.keys():\n",
    "  evsdict[key] = np.array(evsdict[key])"
   ]
  },
  {
   "attachments": {},
   "cell_type": "markdown",
   "metadata": {},
   "source": [
    "### Switch to TaylorF2 to save some time"
   ]
  },
  {
   "cell_type": "code",
   "execution_count": null,
   "metadata": {},
   "outputs": [],
   "source": [
    "mywf = TaylorF2_RestrictedPN(is_tidal=True, use_3p5PN_SpinHO=True, use_QuadMonTid=True)\n",
    "\n",
    "mySignals = {}\n",
    "\n",
    "for d in ETSdet.keys():\n",
    "\n",
    "    mySignals[d] = GWSignal(mywf, \n",
    "                psd_path=ETSdet[d]['psd_path'],\n",
    "                detector_shape = ETSdet[d]['shape'],\n",
    "                det_lat= ETSdet[d]['lat'],\n",
    "                det_long=ETSdet[d]['long'],\n",
    "                det_xax=ETSdet[d]['xax'], \n",
    "                verbose=False,\n",
    "                useEarthMotion = True,\n",
    "                fmax=1024.,\n",
    "                fmin=2.) \n",
    "        \n",
    "myNet = DetNet(mySignals, verbose=False) "
   ]
  },
  {
   "attachments": {},
   "cell_type": "markdown",
   "metadata": {},
   "source": [
    "### Let's compute the SNRs and plot them"
   ]
  },
  {
   "cell_type": "code",
   "execution_count": null,
   "metadata": {},
   "outputs": [],
   "source": [
    "SNRs_pop = myNet.SNR(evsdict)"
   ]
  },
  {
   "cell_type": "code",
   "execution_count": null,
   "metadata": {},
   "outputs": [],
   "source": [
    "fig, ax = plt.subplots(figsize=(12,6))\n",
    "\n",
    "_ = ax.hist(SNRs_pop, linewidth=2., label='SNRs at ET', bins=51, histtype='step')\n",
    "\n",
    "ax.set_xlim(0.,150.)\n",
    "#ax.set_xscale('log')\n",
    "ax.set_yscale('log')\n",
    "ax.set_xlabel('SNR', fontsize=15)\n",
    "ax.set_ylabel(r'Number of events', fontsize=15)\n",
    "plt.grid(linestyle='dotted', linewidth='0.6', which='both')\n",
    "plt.axvline(12, linestyle='--', color='k')\n",
    "ax.legend(loc='upper right', fontsize=15, ncol=1, fancybox=True)\n",
    "\n",
    "plt.show()\n",
    "\n",
    "print('There are %d events with SNR>12'%len(SNRs_pop[SNRs_pop>12]))"
   ]
  },
  {
   "attachments": {},
   "cell_type": "markdown",
   "metadata": {},
   "source": [
    "### Now we select the events with SNR>12 and compute the Fishers"
   ]
  },
  {
   "cell_type": "code",
   "execution_count": null,
   "metadata": {},
   "outputs": [],
   "source": [
    "mask_det = SNRs_pop>12.\n",
    "\n",
    "evs_det = {}\n",
    "\n",
    "for key in evsdict.keys():\n",
    "  evs_det[key] = evsdict[key][mask_det]"
   ]
  },
  {
   "cell_type": "code",
   "execution_count": null,
   "metadata": {},
   "outputs": [],
   "source": [
    "Fishers_pop = myNet.FisherMatr(evs_det)\n",
    "print('The computed Fisher matrices have shape %s'%str(Fishers_pop.shape))"
   ]
  },
  {
   "cell_type": "code",
   "execution_count": null,
   "metadata": {},
   "outputs": [],
   "source": [
    "# We again fix delta Lambda\n",
    "ParNums = mywf.ParNums\n",
    "\n",
    "newFish_pop, newPars = fixParams(Fishers_pop, ParNums, ['deltaLambda'])\n",
    "\n",
    "print('Now the Fisher matrices have shape %s'%str(newFish_pop.shape))\n",
    "\n",
    "Cov_pop, inversion_err_pop = CovMatr(newFish_pop)\n",
    "\n",
    "print('The maximum inversion error is %d%%'%int(max(inversion_err_pop)*100))"
   ]
  },
  {
   "cell_type": "code",
   "execution_count": null,
   "metadata": {},
   "outputs": [],
   "source": [
    "# Get errors and sky localisations\n",
    "\n",
    "errors_pop = np.array([np.sqrt(Cov_pop[i, i]) for i in range(Cov_pop.shape[0])])\n",
    "skyArea_pop = compute_localization_region(Cov_pop, newPars, evs_det['theta'])"
   ]
  },
  {
   "attachments": {},
   "cell_type": "markdown",
   "metadata": {},
   "source": [
    "### Finally plot!"
   ]
  },
  {
   "cell_type": "code",
   "execution_count": null,
   "metadata": {},
   "outputs": [],
   "source": [
    "whole_sky = 4.*(180.**2)/np.pi\n",
    "cm = matplotlib.colormaps.get_cmap('inferno_r')\n",
    "\n",
    "fig, ax = plt.subplots(figsize=(12,6))\n",
    "\n",
    "sc = ax.scatter(errors_pop[newPars['dL'],:]/evs_det['dL'], skyArea_pop, c = SNRs_pop[SNRs_pop>12], cmap = cm)\n",
    "\n",
    "ax.set_xscale('log')\n",
    "ax.set_yscale('log')\n",
    "ax.set_xlim(1e-1, 1e1)\n",
    "ax.set_ylim(1e1, 1e5)\n",
    "ax.set_xlabel('$\\Delta d_L/d_L$', fontsize=15)\n",
    "ax.set_ylabel('$\\Delta \\Omega_{90}$ $[deg^2]$', fontsize=15)\n",
    "plt.colorbar(sc, label = 'SNR')\n",
    "sc.figure.axes[1].yaxis.label.set_size(15)\n",
    "\n",
    "plt.grid(linestyle='dotted', linewidth='0.6', which='both')\n",
    "plt.axhline(whole_sky, linestyle='--', color='k')\n",
    "\n",
    "plt.show()"
   ]
  }
 ],
 "metadata": {
  "kernelspec": {
   "display_name": "Python 3 (ipykernel)",
   "language": "python",
   "name": "python3"
  },
  "language_info": {
   "codemirror_mode": {
    "name": "ipython",
    "version": 3
   },
   "file_extension": ".py",
   "mimetype": "text/x-python",
   "name": "python",
   "nbconvert_exporter": "python",
   "pygments_lexer": "ipython3",
   "version": "3.10.9"
  }
 },
 "nbformat": 4,
 "nbformat_minor": 4
}
