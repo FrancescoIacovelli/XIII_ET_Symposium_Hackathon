{
 "cells": [
  {
   "attachments": {},
   "cell_type": "markdown",
   "metadata": {},
   "source": [
    "![alt text](<https://www.et-gw.eu/images/et-new-logo.png>)\n",
    "\n",
    "#  XIII ET Symposium Hakathon session\n",
    "\n",
    "\n",
    "#### Tutorial on ``gwfast``\n",
    "\n",
    "This notebook is a simple tutorial to start playing around with the ``gwfast`` software, which is suitable for SNR and Fisher-matrix based parameter estimation forecasts on large catalogues of events.\n",
    "\n"
   ]
  },
  {
   "attachments": {},
   "cell_type": "markdown",
   "metadata": {},
   "source": [
    "## Installation for Google Colab"
   ]
  },
  {
   "cell_type": "code",
   "execution_count": null,
   "metadata": {},
   "outputs": [],
   "source": [
    "#! pip install -q 'git+https://github.com/CosmoStatGW/gwfast' "
   ]
  },
  {
   "attachments": {},
   "cell_type": "markdown",
   "metadata": {},
   "source": [
    "**Note**: Using Google Colab, you need to restart the kernel runtime after installation."
   ]
  },
  {
   "attachments": {},
   "cell_type": "markdown",
   "metadata": {},
   "source": [
    "## Now import some packages"
   ]
  },
  {
   "cell_type": "code",
   "execution_count": null,
   "metadata": {},
   "outputs": [],
   "source": [
    "import os\n",
    "import numpy as np\n",
    "import matplotlib.pyplot as plt\n",
    "import h5py\n",
    "\n",
    "import copy\n",
    "from astropy.cosmology import Planck18"
   ]
  },
  {
   "cell_type": "code",
   "execution_count": 2,
   "metadata": {},
   "outputs": [],
   "source": [
    "from gwfast import gwfastGlobals as glob\n",
    "\n",
    "from gwfast.waveforms import IMRPhenomD_NRTidalv2\n",
    "from gwfast.signal import GWSignal\n",
    "from gwfast.network import DetNet\n",
    "from gwfast.fisherTools import CovMatr, compute_localization_region, check_covariance, fixParams\n",
    "from gwfast import gwfastUtils as utils"
   ]
  },
  {
   "attachments": {},
   "cell_type": "markdown",
   "metadata": {},
   "source": [
    "## COMPLETE EXAMPLE: GW170817 @ ET!"
   ]
  },
  {
   "attachments": {},
   "cell_type": "markdown",
   "metadata": {},
   "source": [
    "###  We use the Sardinia site for definiteness"
   ]
  },
  {
   "cell_type": "code",
   "execution_count": null,
   "metadata": {},
   "outputs": [],
   "source": [
    "alldetectors = copy.deepcopy(glob.detectors)\n",
    "print('All available detectors are: '+str(list(alldetectors.keys())))\n",
    "\n",
    "# select only ET in Sardinia\n",
    "ETSdet = {det:alldetectors[det] for det in ['ETS']}\n",
    "print('Using detector '+str(list(ETSdet.keys())))\n"
   ]
  },
  {
   "cell_type": "code",
   "execution_count": 4,
   "metadata": {},
   "outputs": [],
   "source": [
    "# We use the ET-D psds\n",
    "ETSdet['ETS']['psd_path'] = os.path.join(glob.detPath, 'ET-0000A-18.txt')"
   ]
  },
  {
   "attachments": {},
   "cell_type": "markdown",
   "metadata": {},
   "source": [
    "### Initialise the signals and then the network \n",
    "(in this case we have a single triangular detector, but we will see later why this syntax is useful)"
   ]
  },
  {
   "cell_type": "code",
   "execution_count": null,
   "metadata": {},
   "outputs": [],
   "source": [
    "mywf = IMRPhenomD_NRTidalv2(fRef=20.)\n",
    "\n",
    "mySignals = {}\n",
    "\n",
    "for d in ETSdet.keys():\n",
    "\n",
    "    mySignals[d] = GWSignal(mywf, \n",
    "                psd_path=ETSdet[d]['psd_path'],\n",
    "                detector_shape = ETSdet[d]['shape'],\n",
    "                det_lat= ETSdet[d]['lat'],\n",
    "                det_long=ETSdet[d]['long'],\n",
    "                det_xax=ETSdet[d]['xax'], \n",
    "                verbose=False,\n",
    "                useEarthMotion = True,\n",
    "                fmin=2.) \n",
    "        \n",
    "myNet = DetNet(mySignals, verbose=False)      "
   ]
  },
  {
   "attachments": {},
   "cell_type": "markdown",
   "metadata": {},
   "source": [
    "### Now we build a dictionary containing the parameters of GW170817"
   ]
  },
  {
   "cell_type": "code",
   "execution_count": null,
   "metadata": {},
   "outputs": [],
   "source": [
    "# Median values of the posterior samples for all the parameters, \n",
    "# except psi and the coalescence phase that are set to 0\n",
    "\n",
    "z = np.array([0.00980])\n",
    "tGPS = np.array([1187008882.4])\n",
    "\n",
    "GW170817 = {'Mc':np.array([1.1859])*(1.+z), \n",
    "            'dL':Planck18.luminosity_distance(z).value/1000., \n",
    "            'theta':np.array([np.pi/2. + 0.4080839999999999]), \n",
    "            'phi':np.array([3.4461599999999994]),\n",
    "            'iota':np.array([2.545065595974997]), \n",
    "            'psi':np.array([0.]),\n",
    "            'tcoal':utils.GPSt_to_LMST(tGPS, lat=0., long=0.), # GMST is LMST computed at long = 0° \n",
    "            'eta':np.array([0.24786618323504223]), \n",
    "            'Phicoal':np.array([0.]), \n",
    "            'chi1z':np.array([0.005136138323169717]), \n",
    "            'chi2z':np.array([0.003235146993487445]), \n",
    "            'Lambda1':np.array([368.17802383555687]), \n",
    "            'Lambda2':np.array([586.5487031450857])\n",
    "           }\n",
    "\n",
    "print('Parameters for GW170817 are:')\n",
    "GW170817"
   ]
  },
  {
   "attachments": {},
   "cell_type": "markdown",
   "metadata": {},
   "source": [
    "### Let's see how the signal looks like at one of the interferometers"
   ]
  },
  {
   "cell_type": "code",
   "execution_count": null,
   "metadata": {},
   "outputs": [],
   "source": [
    "# first define the frequency grid\n",
    "fmax = mywf.fcut(**GW170817)-10 # We do not get to the cut this way\n",
    "fgrid = np.geomspace(1.,fmax,10000)\n",
    "\n",
    "AmplatET_p, AmplatET_c = myNet.signals['ETS'].GWAmplitudes(GW170817, fgrid, rot=120.)"
   ]
  },
  {
   "cell_type": "code",
   "execution_count": null,
   "metadata": {},
   "outputs": [],
   "source": [
    "fig, ax = plt.subplots(figsize=(12,6))\n",
    "\n",
    "ax.plot(fgrid, 2.*np.sqrt(fgrid)*np.sqrt(AmplatET_p**2 + AmplatET_c**2), linewidth=2., label='GW170817')\n",
    "ax.plot(myNet.signals['ETS'].strainFreq, np.sqrt(myNet.signals['ETS'].noiseCurve), color='C2', linewidth=2., label='ET-D ASD')\n",
    "\n",
    "ax.set_xlim(1.,fmax)\n",
    "ax.set_ylim(1e-25, 1e-20)\n",
    "ax.set_xscale('log')\n",
    "ax.set_yscale('log')\n",
    "ax.set_xlabel('f [Hz]', fontsize=15)\n",
    "ax.set_ylabel(r'$2 \\ |\\tilde{h}| \\ \\sqrt{f}\\ [Hz^{-1/2}]$', fontsize=15)\n",
    "plt.grid(linestyle='dotted', linewidth='0.6', which='both')\n",
    "ax.legend(loc='upper right', fontsize=15, ncol=1, fancybox=True)\n",
    "\n",
    "plt.show()"
   ]
  },
  {
   "cell_type": "code",
   "execution_count": null,
   "metadata": {},
   "outputs": [],
   "source": [
    "# Compute the time to coalescence\n",
    "ft = 2.\n",
    "t_to_coal = mywf.tau_star(ft,**GW170817)\n",
    "print('The time to coalescence at %d Hz is %.0f hours!'%(ft, t_to_coal/(3600.)))"
   ]
  },
  {
   "attachments": {},
   "cell_type": "markdown",
   "metadata": {},
   "source": [
    "### Compute the expected matched-filter SNR"
   ]
  },
  {
   "cell_type": "code",
   "execution_count": null,
   "metadata": {},
   "outputs": [],
   "source": [
    "SNR = myNet.SNR(GW170817)\n",
    "print('SNR for GW170817 at ET is %.2f'%SNR[0])"
   ]
  },
  {
   "cell_type": "markdown",
   "metadata": {},
   "source": [
    "### Compute the total Fisher matrix"
   ]
  },
  {
   "cell_type": "code",
   "execution_count": null,
   "metadata": {},
   "outputs": [],
   "source": [
    "totF = myNet.FisherMatr(GW170817)\n",
    "print('The computed Fisher matrix has shape %s'%str(totF.shape))"
   ]
  },
  {
   "cell_type": "code",
   "execution_count": null,
   "metadata": {},
   "outputs": [],
   "source": [
    "# Check e.g. that the (dL,dL) element corresponds to (SNR/dL)^2\n",
    "ParNums = mywf.ParNums\n",
    "dL_Num = ParNums['dL']\n",
    "print('The relative difference is %.2e !'%((1 - totF[ParNums['dL'],ParNums['dL'],:]/(SNR/GW170817['dL'])**2)[0]))\n"
   ]
  },
  {
   "cell_type": "markdown",
   "metadata": {},
   "source": [
    "### Compute the covariance and perform some checks"
   ]
  },
  {
   "cell_type": "code",
   "execution_count": 11,
   "metadata": {},
   "outputs": [],
   "source": [
    "totCov, inversion_err = CovMatr(totF)\n"
   ]
  },
  {
   "cell_type": "code",
   "execution_count": null,
   "metadata": {},
   "outputs": [],
   "source": [
    "_ = check_covariance(totF, totCov)\n"
   ]
  },
  {
   "cell_type": "markdown",
   "metadata": {},
   "source": [
    "### Now try to eliminate the row corresponding to $\\delta\\tilde{\\Lambda}$, and see that the inversion error lowers"
   ]
  },
  {
   "cell_type": "code",
   "execution_count": null,
   "metadata": {},
   "outputs": [],
   "source": [
    "ParNums = mywf.ParNums\n",
    "\n",
    "newFish, newPars = fixParams(totF, ParNums, ['deltaLambda'])\n",
    "\n",
    "print('Now the Fisher matrix has shape %s'%str(newFish.shape))\n",
    "\n",
    "newCov, new_inversion_err = CovMatr(newFish)\n",
    "\n",
    "_ = check_covariance(newFish, newCov)\n"
   ]
  },
  {
   "cell_type": "markdown",
   "metadata": {},
   "source": [
    "### Finally compute the localisation region"
   ]
  },
  {
   "cell_type": "code",
   "execution_count": null,
   "metadata": {},
   "outputs": [],
   "source": [
    "skyArea = compute_localization_region(newCov, newPars, GW170817['theta'])\n",
    "print('The estimated sky location is %.1f deg^2'%skyArea)\n"
   ]
  }
 ],
 "metadata": {
  "kernelspec": {
   "display_name": "Python 3",
   "language": "python",
   "name": "python3"
  },
  "language_info": {
   "codemirror_mode": {
    "name": "ipython",
    "version": 3
   },
   "file_extension": ".py",
   "mimetype": "text/x-python",
   "name": "python",
   "nbconvert_exporter": "python",
   "pygments_lexer": "ipython3",
   "version": "3.9.4"
  }
 },
 "nbformat": 4,
 "nbformat_minor": 4
}
