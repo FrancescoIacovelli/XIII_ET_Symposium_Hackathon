{
 "cells": [
  {
   "attachments": {},
   "cell_type": "markdown",
   "metadata": {},
   "source": [
    "<img style=\"float: left;padding: 1.2em\" src=\"https://github.com/FrancescoIacovelli/XIII_ET_Symposium_Hakathon/blob/main/ET_Logo.png\">  \n",
    "\n",
    "#  XIII ET Symposium Hakathon session\n",
    "\n",
    "\n",
    "#### Tutorial on ``gwfast``\n",
    "\n",
    "This notebook is a simple tutorial to start playing around with the ``gwfast`` software, which is suitable for SNR and Fisher-matrix based parameter estimation forecasts on large catalogues of events.\n",
    "\n"
   ]
  },
  {
   "attachments": {},
   "cell_type": "markdown",
   "metadata": {},
   "source": [
    "## Installation for Google Colab"
   ]
  },
  {
   "cell_type": "code",
   "execution_count": null,
   "metadata": {},
   "outputs": [],
   "source": [
    "#! pip install -q 'git+https://github.com/CosmoStatGW/gwfast' "
   ]
  },
  {
   "attachments": {},
   "cell_type": "markdown",
   "metadata": {},
   "source": [
    "**Note**: Using Google Colab, you need to restart the kernel runtime after installation."
   ]
  },
  {
   "attachments": {},
   "cell_type": "markdown",
   "metadata": {},
   "source": [
    "## Now import some packages"
   ]
  },
  {
   "cell_type": "code",
   "execution_count": null,
   "metadata": {},
   "outputs": [],
   "source": [
    "import os\n",
    "import numpy as np\n",
    "import matplotlib.pyplot as plt\n",
    "import h5py\n",
    "\n",
    "import copy\n",
    "from astropy.cosmology import Planck18"
   ]
  },
  {
   "cell_type": "code",
   "execution_count": 2,
   "metadata": {},
   "outputs": [],
   "source": [
    "from gwfast import gwfastGlobals as glob\n",
    "\n",
    "from gwfast.waveforms import IMRPhenomD_NRTidalv2\n",
    "from gwfast.signal import GWSignal\n",
    "from gwfast.network import DetNet\n",
    "from gwfast.fisherTools import CovMatr, compute_localization_region, check_covariance, fixParams\n",
    "from gwfast import gwfastUtils as utils"
   ]
  },
  {
   "attachments": {},
   "cell_type": "markdown",
   "metadata": {},
   "source": [
    "## COMPLETE EXAMPLE: GW170817 @ ET!"
   ]
  },
  {
   "attachments": {},
   "cell_type": "markdown",
   "metadata": {},
   "source": [
    "###  We use the Sardinia site for definiteness"
   ]
  },
  {
   "cell_type": "code",
   "execution_count": 3,
   "metadata": {},
   "outputs": [
    {
     "name": "stdout",
     "output_type": "stream",
     "text": [
      "All available detectors are: ['L1', 'H1', 'Virgo', 'KAGRA', 'LIGOI', 'ETS', 'ETMR', 'CE1Id', 'CE2NM', 'CE2NSW']\n",
      "Using detectors ['L1', 'H1', 'Virgo']\n"
     ]
    }
   ],
   "source": [
    "alldetectors = copy.deepcopy(glob.detectors)\n",
    "print('All available detectors are: '+str(list(alldetectors.keys())))\n",
    "\n",
    "# select only ET in Sardinia\n",
    "ETSdet = {det:alldetectors[det] for det in ['ETS']}\n",
    "print('Using detector '+str(list(ETSdet.keys())))\n"
   ]
  },
  {
   "cell_type": "code",
   "execution_count": 4,
   "metadata": {},
   "outputs": [],
   "source": [
    "# We use the ET-D psds\n",
    "ETSdet['ETS']['psd_path'] = os.path.join(glob.detPath, 'ET-0000A-18.txt')"
   ]
  },
  {
   "attachments": {},
   "cell_type": "markdown",
   "metadata": {},
   "source": [
    "### Initialise the signals and then the network \n",
    "(in this case we have a single triangular detector, but we will see later why this syntax is useful)"
   ]
  },
  {
   "cell_type": "code",
   "execution_count": null,
   "metadata": {},
   "outputs": [
    {
     "name": "stdout",
     "output_type": "stream",
     "text": [
      "Using ASD from file /Users/francesco.iacovelli/Desktop/PhD/Research/2023-04_GWFAST/gwfast/psds/LVC_O1O2O3/2017-08-06_DCH_C02_L1_O2_Sensitivity_strain_asd.txt \n",
      "WARNING: the motion of Earth gives a relevant contribution for BNS signals, consider switching it on\n",
      "Initializing jax...\n",
      "Jax local device count: 8\n",
      "Jax  device count: 8\n",
      "Using ASD from file /Users/francesco.iacovelli/Desktop/PhD/Research/2023-04_GWFAST/gwfast/psds/LVC_O1O2O3/2017-06-10_DCH_C02_H1_O2_Sensitivity_strain_asd.txt \n",
      "WARNING: the motion of Earth gives a relevant contribution for BNS signals, consider switching it on\n",
      "Initializing jax...\n",
      "Jax local device count: 8\n",
      "Jax  device count: 8\n",
      "Using ASD from file /Users/francesco.iacovelli/Desktop/PhD/Research/2023-04_GWFAST/gwfast/psds/LVC_O1O2O3/Hrec_hoft_V1O2Repro2A_16384Hz.txt \n",
      "WARNING: the motion of Earth gives a relevant contribution for BNS signals, consider switching it on\n",
      "Initializing jax...\n",
      "Jax local device count: 8\n",
      "Jax  device count: 8\n"
     ]
    }
   ],
   "source": [
    "mywf = IMRPhenomD_NRTidalv2(fRef=20.)\n",
    "\n",
    "mySignals = {}\n",
    "\n",
    "for d in ETSdet.keys():\n",
    "\n",
    "    mySignals[d] = GWSignal(mywf, \n",
    "                psd_path=ETSdet[d]['psd_path'],\n",
    "                detector_shape = ETSdet[d]['shape'],\n",
    "                det_lat= ETSdet[d]['lat'],\n",
    "                det_long=ETSdet[d]['long'],\n",
    "                det_xax=ETSdet[d]['xax'], \n",
    "                verbose=False,\n",
    "                useEarthMotion = True,\n",
    "                fmin=2.) \n",
    "        \n",
    "myNet = DetNet(mySignals, verbose=False)      "
   ]
  },
  {
   "attachments": {},
   "cell_type": "markdown",
   "metadata": {},
   "source": [
    "### Now we build a dictionary containing the parameters of GW170817"
   ]
  },
  {
   "cell_type": "code",
   "execution_count": 7,
   "metadata": {},
   "outputs": [
    {
     "name": "stdout",
     "output_type": "stream",
     "text": [
      "Parameters for GW170817 are:\n"
     ]
    },
    {
     "data": {
      "text/plain": [
       "{'Mc': array([1.19752182]),\n",
       " 'dL': array([0.04374755]),\n",
       " 'theta': array([1.97888033]),\n",
       " 'phi': array([3.44616]),\n",
       " 'iota': array([2.5450656]),\n",
       " 'psi': array([0.]),\n",
       " 'tcoal': DeviceArray([0.43432288], dtype=float64),\n",
       " 'eta': array([0.24786618]),\n",
       " 'Phicoal': array([0.]),\n",
       " 'chi1z': array([0.00513614]),\n",
       " 'chi2z': array([0.00323515]),\n",
       " 'Lambda1': array([368.17802384]),\n",
       " 'Lambda2': array([586.54870315])}"
      ]
     },
     "execution_count": 7,
     "metadata": {},
     "output_type": "execute_result"
    }
   ],
   "source": [
    "# Median values of the posterior samples for all the parameters, \n",
    "# except psi and the coalescence phase that are set to 0\n",
    "\n",
    "z = np.array([0.00980])\n",
    "tGPS = np.array([1187008882.4])\n",
    "\n",
    "GW170817 = {'Mc':np.array([1.1859])*(1.+z), \n",
    "            'dL':Planck18.luminosity_distance(z).value/1000., \n",
    "            'theta':np.array([np.pi/2. + 0.4080839999999999]), \n",
    "            'phi':np.array([3.4461599999999994]),\n",
    "            'iota':np.array([2.545065595974997]), \n",
    "            'psi':np.array([0.]),\n",
    "            'tcoal':utils.GPSt_to_LMST(tGPS, lat=0., long=0.), # GMST is LMST computed at long = 0° \n",
    "            'eta':np.array([0.24786618323504223]), \n",
    "            'Phicoal':np.array([0.]), \n",
    "            'chi1z':np.array([0.005136138323169717]), \n",
    "            'chi2z':np.array([0.003235146993487445]), \n",
    "            'Lambda1':np.array([368.17802383555687]), \n",
    "            'Lambda2':np.array([586.5487031450857])\n",
    "           }\n",
    "\n",
    "print('Parameters for GW170817 are:')\n",
    "GW170817"
   ]
  },
  {
   "attachments": {},
   "cell_type": "markdown",
   "metadata": {},
   "source": [
    "### Let's see how the signal looks like at one of the interferometers"
   ]
  },
  {
   "cell_type": "code",
   "execution_count": null,
   "metadata": {},
   "outputs": [],
   "source": [
    "# first define the frequency grid\n",
    "fmax = mywf.fcut(**GW170817)\n",
    "fgrid = np.geomspace(2.,fmax,10000)\n",
    "\n",
    "AmplatET_p, AmplatET_c = myNet.signals['ETS'].GWAmplitudes(GW170817, fgrid)"
   ]
  },
  {
   "attachments": {},
   "cell_type": "markdown",
   "metadata": {},
   "source": [
    "### Compute the expected matched-filter SNR"
   ]
  },
  {
   "cell_type": "code",
   "execution_count": 8,
   "metadata": {},
   "outputs": [
    {
     "name": "stdout",
     "output_type": "stream",
     "text": [
      "SNR for GW170817 is 33.16 to compare with 33\n"
     ]
    }
   ],
   "source": [
    "SNR = myNet.SNR(GW170817)\n",
    "print('SNR for GW170817 at ET is %.2f'%SNR[0])"
   ]
  },
  {
   "cell_type": "markdown",
   "metadata": {},
   "source": [
    "### Compute the total Fisher matrix"
   ]
  },
  {
   "cell_type": "code",
   "execution_count": 9,
   "metadata": {},
   "outputs": [
    {
     "name": "stdout",
     "output_type": "stream",
     "text": [
      "Computing Fisher for L1...\n",
      "Computing derivatives...\n",
      "Computing Fisher for H1...\n",
      "Computing derivatives...\n",
      "Computing Fisher for Virgo...\n",
      "Computing derivatives...\n",
      "Done.\n",
      "The computed Fisher matrix has shape (13, 13, 1)\n"
     ]
    }
   ],
   "source": [
    "totF = myNet.FisherMatr(GW170817)\n",
    "print('The computed Fisher matrix has shape %s'%str(totF.shape))"
   ]
  },
  {
   "cell_type": "code",
   "execution_count": 10,
   "metadata": {},
   "outputs": [
    {
     "name": "stdout",
     "output_type": "stream",
     "text": [
      "The relative difference is 2.22e-16 !\n"
     ]
    }
   ],
   "source": [
    "# Check e.g. that the (dL,dL) element corresponds to (SNR/dL)^2\n",
    "ParNums = mywf.ParNums\n",
    "dL_Num = ParNums['dL']\n",
    "print('The relative difference is %.2e !'%((1 - totF[ParNums['dL'],ParNums['dL'],:]/(SNR/GW170817['dL'])**2)[0]))\n"
   ]
  },
  {
   "cell_type": "markdown",
   "metadata": {},
   "source": [
    "### Compute the covariance and perform some checks"
   ]
  },
  {
   "cell_type": "code",
   "execution_count": 11,
   "metadata": {},
   "outputs": [],
   "source": [
    "totCov, inversion_err = CovMatr(totF)\n"
   ]
  },
  {
   "cell_type": "code",
   "execution_count": 12,
   "metadata": {},
   "outputs": [
    {
     "name": "stdout",
     "output_type": "stream",
     "text": [
      "Inversion errors: [5657.625]\n",
      "diagonal-1 = [array([-7.49594165e-09,  5.77928176e-08, -4.95498282e-14,  9.54375468e-14,\n",
      "        6.81787959e-13,  2.98029830e-13,  8.52979909e-11,  1.76168555e-08,\n",
      "        1.16116894e-09, -5.50993718e-06, -4.76458808e-06, -4.77896833e-10,\n",
      "       -5.41731424e-08], dtype=float128)]\n",
      "Max off diagonal: [5657.625]\n",
      "\n",
      "mask: where F*S(off-diagonal)>1e-10 (--> problematic if True off diagonal)\n",
      "[array([[ True, False, False, False, False, False, False, False, False,\n",
      "        False, False, False, False],\n",
      "       [False,  True, False,  True,  True, False,  True,  True, False,\n",
      "         True,  True, False, False],\n",
      "       [False,  True,  True, False, False, False, False,  True, False,\n",
      "         True, False, False, False],\n",
      "       [False,  True, False,  True, False, False, False, False, False,\n",
      "        False, False, False, False],\n",
      "       [False,  True, False, False,  True, False, False, False, False,\n",
      "        False, False, False, False],\n",
      "       [ True, False, False, False, False,  True, False, False, False,\n",
      "        False, False, False, False],\n",
      "       [ True, False, False, False, False, False,  True, False, False,\n",
      "        False, False, False, False],\n",
      "       [False,  True, False, False, False, False, False,  True, False,\n",
      "         True, False, False, False],\n",
      "       [ True, False, False, False, False, False, False,  True,  True,\n",
      "         True, False, False, False],\n",
      "       [False,  True, False,  True,  True, False,  True, False, False,\n",
      "         True,  True, False, False],\n",
      "       [ True, False,  True,  True,  True,  True, False,  True,  True,\n",
      "         True,  True, False, False],\n",
      "       [ True, False, False, False, False,  True,  True, False,  True,\n",
      "        False, False,  True, False],\n",
      "       [ True, False,  True, False, False,  True, False,  True,  True,\n",
      "         True, False, False,  True]])]\n"
     ]
    }
   ],
   "source": [
    "_ = check_covariance(totF, totCov)\n"
   ]
  },
  {
   "cell_type": "markdown",
   "metadata": {},
   "source": [
    "### Now try to eliminate the row corresponding to $\\delta\\tilde{\\Lambda}$, and see that the inversion error lowers"
   ]
  },
  {
   "cell_type": "code",
   "execution_count": 13,
   "metadata": {},
   "outputs": [
    {
     "name": "stdout",
     "output_type": "stream",
     "text": [
      "Now the Fisher matrix has shape (12, 12, 1)\n",
      "Inversion errors: [0.00099936]\n",
      "diagonal-1 = [array([-2.28188846e-09, -2.06082540e-09,  1.96557180e-13,  1.75944762e-13,\n",
      "       -9.95434637e-13,  2.58760678e-13, -9.65491662e-12,  4.94747979e-10,\n",
      "        6.65625888e-12, -1.89773989e-07,  7.42870654e-09,  3.38172546e-12],\n",
      "      dtype=float128)]\n",
      "Max off diagonal: [1.3847575246472842991e-05]\n",
      "\n",
      "mask: where F*S(off-diagonal)>1e-10 (--> problematic if True off diagonal)\n",
      "[array([[ True, False, False, False, False, False, False, False, False,\n",
      "        False, False, False],\n",
      "       [ True,  True, False, False, False, False, False,  True, False,\n",
      "         True, False, False],\n",
      "       [False, False,  True, False, False, False, False, False, False,\n",
      "        False, False, False],\n",
      "       [False, False, False,  True, False, False, False, False, False,\n",
      "        False, False, False],\n",
      "       [ True, False, False, False,  True, False, False, False, False,\n",
      "        False, False, False],\n",
      "       [ True, False, False, False, False,  True, False, False, False,\n",
      "        False, False, False],\n",
      "       [False,  True, False, False, False, False,  True,  True, False,\n",
      "         True,  True, False],\n",
      "       [ True, False, False, False, False, False, False,  True, False,\n",
      "         True, False, False],\n",
      "       [ True, False, False, False, False, False, False, False,  True,\n",
      "        False, False, False],\n",
      "       [False,  True, False,  True,  True, False,  True, False, False,\n",
      "         True,  True, False],\n",
      "       [False,  True, False,  True,  True, False, False,  True, False,\n",
      "         True,  True, False],\n",
      "       [False,  True, False,  True,  True, False,  True, False, False,\n",
      "        False,  True,  True]])]\n"
     ]
    }
   ],
   "source": [
    "ParNums = mywf.ParNums\n",
    "\n",
    "newFish, newPars = fixParams(totF, ParNums, ['deltaLambda'])\n",
    "\n",
    "print('Now the Fisher matrix has shape %s'%str(newFish.shape))\n",
    "\n",
    "newCov, new_inversion_err = CovMatr(newFish)\n",
    "\n",
    "_ = check_covariance(newFish, newCov)\n"
   ]
  },
  {
   "cell_type": "markdown",
   "metadata": {},
   "source": [
    "### Finally compute the localisation region"
   ]
  },
  {
   "cell_type": "code",
   "execution_count": 14,
   "metadata": {},
   "outputs": [
    {
     "name": "stdout",
     "output_type": "stream",
     "text": [
      "The estimated sky location is 19.9 deg^2, to compare with 16 deg^2\n"
     ]
    }
   ],
   "source": [
    "skyArea = compute_localization_region(newCov, newPars, GW170817['theta'])\n",
    "print('The estimated sky location is %.1f deg^2'%skyArea)\n"
   ]
  }
 ],
 "metadata": {
  "kernelspec": {
   "display_name": "Python 3",
   "language": "python",
   "name": "python3"
  },
  "language_info": {
   "codemirror_mode": {
    "name": "ipython",
    "version": 3
   },
   "file_extension": ".py",
   "mimetype": "text/x-python",
   "name": "python",
   "nbconvert_exporter": "python",
   "pygments_lexer": "ipython3",
   "version": "3.9.4"
  }
 },
 "nbformat": 4,
 "nbformat_minor": 4
}
