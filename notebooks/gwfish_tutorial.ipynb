{
 "cells": [
  {
   "cell_type": "markdown",
   "id": "3d714935",
   "metadata": {},
   "source": [
    "![alt text](<https://www.et-gw.eu/images/et-new-logo.png>)\n",
    "\n",
    "# XIII ET Symposium: Hackathon Session\n",
    "\n",
    "\n",
    "### GWFish Tutorial: a brief guide for your first steps in using GWFish"
   ]
  },
  {
   "cell_type": "markdown",
   "id": "26857820",
   "metadata": {},
   "source": [
    "## Settings for Google Colab"
   ]
  },
  {
   "cell_type": "code",
   "execution_count": null,
   "id": "d2e4452b",
   "metadata": {},
   "outputs": [],
   "source": [
    "#! pip install -q git+https://github.com/u-dupletsa/GWFish-1.git"
   ]
  },
  {
   "cell_type": "code",
   "execution_count": null,
   "id": "91f8f35f",
   "metadata": {},
   "outputs": [],
   "source": [
    "#! pip install -q lalsuite"
   ]
  },
  {
   "cell_type": "code",
   "execution_count": null,
   "id": "d391910a",
   "metadata": {},
   "outputs": [],
   "source": [
    "#! pip install -q corner"
   ]
  },
  {
   "cell_type": "markdown",
   "id": "ea308832",
   "metadata": {},
   "source": [
    "**Note 1**: in Google Colab remember to **restart the kernel runtime** after installation\n",
    "\n",
    "**Note 2**: GWFish uses LALSimulation, so the package needs to be installed separately from GWFish"
   ]
  },
  {
   "cell_type": "markdown",
   "id": "6f55fa3d",
   "metadata": {},
   "source": [
    "## Import packages"
   ]
  },
  {
   "cell_type": "code",
   "execution_count": null,
   "id": "0690618d",
   "metadata": {},
   "outputs": [],
   "source": [
    "import GWFish.modules as gw\n",
    "\n",
    "from tqdm import tqdm\n",
    "import matplotlib\n",
    "import matplotlib.pyplot as plt\n",
    "import corner\n",
    "import numpy as np\n",
    "import pandas as pd\n",
    "import json\n",
    "import os\n",
    "from astropy.cosmology import Planck18\n",
    "\n",
    "GWFish_path = '/usr/local/lib/python3.10/dist-packages/GWFish/'"
   ]
  },
  {
   "cell_type": "markdown",
   "id": "7a125b68",
   "metadata": {},
   "source": [
    "# Single Event Analysis: GW170817-like"
   ]
  },
  {
   "cell_type": "markdown",
   "id": "fb9eb25c",
   "metadata": {},
   "source": [
    "## Initialize GWFish\n",
    "\n",
    "Here we are using the **GW180817** BNS event as it would have been seen with a triangular shape ET located in Sardinia.\n",
    "\n",
    "* We need to specify the population type (BNS or BBH), then the detectors and the network\n",
    "* The choice of the waveform approximant can be done from all the availbale waveforms from **LALSimulation**\n",
    "* All the detectors characteristics are specified in the **detectors.yaml** file\n",
    "* For a more realistic analysis we can include the **duty cycle** of the detectors using `duty_cycle = True`"
   ]
  },
  {
   "cell_type": "code",
   "execution_count": null,
   "id": "f171d110",
   "metadata": {},
   "outputs": [],
   "source": [
    "population = 'BNS' # or 'BBH'\n",
    "detectors = ['ET']\n",
    "networks = '[[0]]'\n",
    "\n",
    "detectors_ids = detectors\n",
    "networks_ids = json.loads(networks)\n",
    "ConfigDet = os.path.join(GWFish_path,'detectors.yaml')\n",
    "\n",
    "calculate_errors = True\n",
    "duty_cycle = False\n",
    "\n",
    "waveform_model = 'lalsim_IMRPhenomD_NRTidalv2'"
   ]
  },
  {
   "cell_type": "markdown",
   "id": "1377cbee",
   "metadata": {},
   "source": [
    "### Injections\n",
    "\n",
    "We can analyze single events or entire populations (see below). Here consider the GW170817 event. \n",
    "\n",
    "The parameters need to passed as a **DataFrame** with the following nomenclature:\n",
    "- `mass_1`: primary mass of the binary in Msol (in source frame)\n",
    "- `mass_2`: secondary mass of the binary in Msol (in source frame)\n",
    "- `redshift`: the redshift of the merger\n",
    "- `luminosity_distance`:  the luminosity distance of the merger in Mpc\n",
    "- `theta_jn`: the inclination angle between the line of observation and the perpendicular to the binary plane in rad\n",
    "- `dec`: declination angle in rad\n",
    "- `ra`: right ascension in rad\n",
    "- `psi`: the polarization angle in rad\n",
    "- `phase`: the initial phase of the merger in rad\n",
    "- `geocent_time`: merger time as GPS time\n",
    "- `a_1`: dimensionless spin parameter of primary component\n",
    "- `a_2`: dimensionless spin parameter of secondary component\n",
    "- `lambda_1`: tidal polarizabilty of primary component\n",
    "- `lambda_2`: tidal polarizabilty of secondary component"
   ]
  },
  {
   "cell_type": "code",
   "execution_count": null,
   "id": "a5153023",
   "metadata": {},
   "outputs": [],
   "source": [
    "z = np.array([0.00980])\n",
    "\n",
    "parameters = {\n",
    "    'mass_1': np.array([1.4957673]), \n",
    "    'mass_2': np.array([1.24276395]), \n",
    "    'redshift': z,\n",
    "    'luminosity_distance': Planck18.luminosity_distance(z).value,\n",
    "    'theta_jn': np.array([2.545065595974997]),\n",
    "    'ra': np.array([3.4461599999999994]), # phi in gwfast\n",
    "    'dec': np.array([-0.4080839999999999]), # pi/2 - theta\n",
    "    'psi': np.array([0.]),\n",
    "    'phase': np.array([0.]),\n",
    "    'geocent_time': np.array([1187008882.4]),\n",
    "    'a_1':np.array([0.005136138323169717]), \n",
    "    'a_2':np.array([0.003235146993487445]), \n",
    "    'lambda_1':np.array([368.17802383555687]), \n",
    "    'lambda_2':np.array([586.5487031450857])}\n",
    "parameters = pd.DataFrame(parameters)\n",
    "parameters"
   ]
  },
  {
   "cell_type": "markdown",
   "id": "f560ce76",
   "metadata": {},
   "source": [
    "### Initialize Network\n",
    "\n",
    "If we want to compute the Fisher matrix we need to specify the parameters in the detector network settigs. Moreover, we need to specify what is the minimum network SNR for Fisher analysis (the fiducial value is set to SNR = 8.)"
   ]
  },
  {
   "cell_type": "code",
   "execution_count": null,
   "id": "a4b40344",
   "metadata": {},
   "outputs": [],
   "source": [
    "threshold_SNR = np.array([0., 8.])\n",
    "fisher_parameters = ['mass_1', 'mass_2', 'luminosity_distance', 'theta_jn', 'dec','ra',\n",
    "                     'psi', 'phase', 'geocent_time', 'a_1', 'a_2', 'lambda_1', 'lambda_2']\n",
    "network = gw.detection.Network(detectors_ids, detection_SNR=threshold_SNR, parameters=parameters,\n",
    "                               fisher_parameters=fisher_parameters, config=ConfigDet)\n"
   ]
  },
  {
   "cell_type": "markdown",
   "id": "5c9bd0b5",
   "metadata": {},
   "source": [
    "### Calculate SNR"
   ]
  },
  {
   "cell_type": "code",
   "execution_count": null,
   "id": "e564f4c2",
   "metadata": {},
   "outputs": [],
   "source": [
    "for k in tqdm(np.arange(len(parameters))):\n",
    "  parameter_values = parameters.iloc[k]\n",
    "\n",
    "  networkSNR_sq = 0\n",
    "  for d in np.arange(len(network.detectors)):\n",
    "    wave, t_of_f = gw.waveforms.hphc_amplitudes(waveform_model, parameter_values,\n",
    "                                                network.detectors[d].frequencyvector)\n",
    "    signal = gw.detection.projection(parameter_values, network.detectors[d], wave, t_of_f)\n",
    "\n",
    "    SNRs = gw.detection.SNR(network.detectors[d], signal, duty_cycle=duty_cycle)\n",
    "    networkSNR_sq += np.sum(SNRs ** 2)\n",
    "    network.detectors[d].SNR[k] = np.sqrt(np.sum(SNRs ** 2))\n",
    "\n",
    "    if calculate_errors:\n",
    "      network.detectors[d].fisher_matrix[k, :, :] = \\\n",
    "              gw.fishermatrix.FisherMatrix(waveform_model, parameter_values, fisher_parameters, network.detectors[d])\n",
    "\n",
    "  network.SNR[k] = np.sqrt(networkSNR_sq)\n",
    "\n",
    "gw.detection.analyzeDetections(network, parameters, population, networks_ids)\n",
    "\n",
    "if calculate_errors:\n",
    "  gw.fishermatrix.analyzeFisherErrors(network, parameters, fisher_parameters, population, networks_ids)\n",
    "\n",
    "\n",
    "print('The network SNR of the event is ', network.SNR[0])"
   ]
  },
  {
   "cell_type": "markdown",
   "id": "d5fec3ec",
   "metadata": {},
   "source": [
    "### Plot Signal"
   ]
  },
  {
   "cell_type": "code",
   "execution_count": null,
   "id": "1d557c73",
   "metadata": {},
   "outputs": [],
   "source": [
    "h_plus, h_cross = signal[:, 0], signal[:, 1]\n",
    "ampl = np.sqrt(np.abs(h_plus)**2. + np.abs(h_cross)**2.)\n",
    "\n",
    "psd_et_D = np.loadtxt(os.path.join(GWFish_path,'detector_psd/ET_psd.txt'), usecols=[0,1])\n",
    "frequencyvector = network.detectors[d].frequencyvector[:, 0]\n",
    "\n",
    "fig, ax = plt.subplots(figsize=(12,6))\n",
    "\n",
    "ax.plot(frequencyvector, 2.*np.sqrt(frequencyvector)*ampl, \n",
    "        linewidth=2., label='%s' %(waveform_model))\n",
    "ax.plot(psd_et_D[:,0],np.sqrt(psd_et_D[:,1]), linewidth=2.0, color='C2', label='ET-D ASD')\n",
    "\n",
    "ax.set_xlim(1.,frequencyvector[-1])\n",
    "ax.set_ylim(1e-25, 1e-20)\n",
    "ax.set_xscale('log')\n",
    "ax.set_yscale('log')\n",
    "ax.set_xlabel('f [Hz]', fontsize=15)\n",
    "ax.set_ylabel(r'$2 \\ |\\tilde{h}| \\ \\sqrt{f}\\ [Hz^{-1/2}]$', fontsize=15)\n",
    "plt.grid(linestyle='dotted', linewidth='0.6', which='both')\n",
    "ax.legend(loc='upper right', fontsize=15, ncol=1, fancybox=True)\n",
    "\n",
    "plt.show()"
   ]
  },
  {
   "cell_type": "code",
   "execution_count": null,
   "id": "d0096a0e",
   "metadata": {},
   "outputs": [],
   "source": [
    "fig, ax = plt.subplots(figsize=(12,6))\n",
    "conv_to_hours = 3600\n",
    "ax.plot(frequencyvector, (t_of_f - parameters['geocent_time'].iloc[0]) / conv_to_hours, linewidth=2.)\n",
    "\n",
    "ax.set_xlim(1.,frequencyvector[-1])\n",
    "ax.set_xscale('log')\n",
    "ax.set_xlabel('f [Hz]', fontsize=15)\n",
    "ax.set_ylabel(r'time before merger [hours]', fontsize=15)\n",
    "plt.grid(linestyle='dotted', linewidth='0.6', which='both')\n",
    "\n",
    "plt.show()"
   ]
  },
  {
   "cell_type": "markdown",
   "id": "44b69f52",
   "metadata": {},
   "source": [
    "## Fisher matrix and error analysis"
   ]
  },
  {
   "cell_type": "code",
   "execution_count": null,
   "id": "bd293a71",
   "metadata": {},
   "outputs": [],
   "source": [
    "errors = pd.read_csv('Errors_ET_%s_SNR%s.txt'%(population, threshold_SNR[1]), delimiter = ' ')\n",
    "\n",
    "fishers = np.load('Fishers_ET_%s_SNR%s.npy' %(population, threshold_SNR[1]))\n",
    "fisher_matrix = fishers[0, :, :]\n",
    "print('We expect Delta dL/dL to scale as 1/SNR')\n",
    "print('fisher matrix dL-dL: ', fisher_matrix[2, 2])\n",
    "print('(SNR/dL)^2: ', (errors['network_SNR'].iloc[0] / errors['luminosity_distance'].iloc[0])**2)\n",
    "print(errors.iloc[0])\n",
    "\n",
    "inv_fishers = np.load('Inv_Fishers_ET_%s_SNR%s.npy' %(population, threshold_SNR[1]))\n",
    "cov_matrix = inv_fishers[0, :, :]"
   ]
  },
  {
   "cell_type": "code",
   "execution_count": null,
   "id": "06751a60",
   "metadata": {},
   "outputs": [],
   "source": [
    "sky_loc_conv = 4.6 * (180. / np.pi)**2\n",
    "print('Sky localization (in deg2) =', sky_loc_conv * errors['err_sky_location'].iloc[0])"
   ]
  },
  {
   "cell_type": "markdown",
   "id": "7afa2238",
   "metadata": {},
   "source": [
    "## Corner plot"
   ]
  },
  {
   "cell_type": "code",
   "execution_count": null,
   "id": "94f83509",
   "metadata": {},
   "outputs": [],
   "source": [
    "CORNER_KWARGS = dict(\n",
    "    bins = 50, # number of bins for histograms\n",
    "    smooth = 0.99, # smooths out contours. \n",
    "    plot_datapoints = True, # choose if you want datapoints\n",
    "    label_kwargs = dict(fontsize = 12), # font size for labels\n",
    "    show_titles = True, #choose if you want titles on top of densities.\n",
    "    title_kwargs = dict(fontsize = 12), # font size for title\n",
    "    plot_density = False,\n",
    "    title_quantiles = [0.16, 0.5, 0.84],  # add quantiles to plot densities for 1d hist\n",
    "    levels = (1 - np.exp(-0.5), 1 - np.exp(-2), 1 - np.exp(-9 / 2.)), # 1, 2 and 3 sigma contours for 2d plots\n",
    "    fill_contours = True, #decide if you want to fill the contours\n",
    "    max_n_ticks = 2, # set a limit to ticks in the x-y axes.\n",
    "    title_fmt=\".3f\"\n",
    "    )\n",
    "corner_lbs = [r'$m_1$ $[M_{\\odot}]$', '$m_2$ $[M_{\\odot}]$', '$D_l$ [Mpc]',\n",
    "                '$\\iota$ [rad]', '$DEC$ [rad]', '$RA$ [rad]', '$\\Psi$ [rad]',\n",
    "                 '$phase$', '$t_c$', '$a_1$', '$a_2$', '$\\Lambda_1$', '$\\Lambda_2$']\n",
    "mean_values = [parameters['mass_1'].iloc[0], parameters['mass_2'].iloc[0], \n",
    "               parameters['luminosity_distance'].iloc[0],\n",
    "               parameters['theta_jn'].iloc[0], parameters['dec'].iloc[0], \n",
    "               parameters['ra'].iloc[0], parameters['psi'].iloc[0],\n",
    "               parameters['phase'].iloc[0], parameters['geocent_time'].iloc[0],\n",
    "               parameters['a_1'].iloc[0], parameters['a_2'].iloc[0],\n",
    "               parameters['lambda_1'].iloc[0], parameters['lambda_2'].iloc[0]]\n",
    "\n",
    "# Sample from a multi-variate gaussian with the given covariance matrix and injected mean values\n",
    "samples = np.random.multivariate_normal(mean_values, cov_matrix, int(1e6))\n",
    "fig = corner.corner(samples, labels = corner_lbs, truths = mean_values, truth_color = 'red',\n",
    "                    **CORNER_KWARGS)\n",
    "plt.show()"
   ]
  },
  {
   "cell_type": "markdown",
   "id": "52f0d98b",
   "metadata": {},
   "source": [
    "# BNS Population Analysis"
   ]
  },
  {
   "cell_type": "markdown",
   "id": "898c5653",
   "metadata": {},
   "source": [
    "* The `threshold_SNR` specifies in the first entry what is the minimum SNR for a detector to be included in the network, while the second entry is the lower threshold for the network SNR so that the Fisher matrix of the event is calculated\n",
    "* If we want to calculate the uncertainties on the injected parameters values we need to specify `calculate_errors = True` and list the parameters to include in the Fisher analysis `fisher_parameters = ['...']`\n",
    "* For a more realistic analysis we can include the duty cycle of the detectors using `duty_cycle = True`"
   ]
  },
  {
   "cell_type": "code",
   "execution_count": null,
   "id": "0f3c8bb9",
   "metadata": {},
   "outputs": [],
   "source": [
    "population = 'BNS' # or 'BBH'\n",
    "detectors = ['ET']\n",
    "networks = '[[0]]'\n",
    "\n",
    "detectors_ids = detectors\n",
    "networks_ids = json.loads(networks)\n",
    "ConfigDet = os.path.join(GWFish_path,'detectors.yaml')\n",
    "\n",
    "waveform_model = 'lalsim_TaylorF2'\n",
    "threshold_SNR = np.array([0., 12.])\n",
    "calculate_errors = True\n",
    "fisher_parameters = ['mass_1', 'mass_2', 'luminosity_distance', 'theta_jn', 'dec','ra',\n",
    "                     'psi', 'geocent_time', 'phase', 'a_1', 'a_2', 'lambda_1', 'lambda_2']\n",
    "duty_cycle = True\n",
    "\n",
    "np.random.seed(0)\n",
    "\n",
    "waveform_model = 'lalsim_IMRPhenomD_NRTidalv2'"
   ]
  },
  {
   "cell_type": "code",
   "execution_count": null,
   "id": "34c49518",
   "metadata": {},
   "outputs": [],
   "source": [
    "data_url = 'https://raw.githubusercontent.com/FrancescoIacovelli/XIII_ET_Symposium_Hakathon/main/data/BNS_100ev_pop.csv'\n",
    "\n",
    "df = pd.read_csv(data_url, delimiter=',')\n",
    "print(df.keys())\n",
    "pop_parameters = {\n",
    "    'mass_1': df['m1_src'].to_numpy(), \n",
    "    'mass_2': df['m2_src'].to_numpy(), \n",
    "    'redshift': df['z'].to_numpy(),\n",
    "    'luminosity_distance': Planck18.luminosity_distance(df['z'].to_numpy()).value,\n",
    "    'theta_jn': df['iota'].to_numpy(),\n",
    "    'ra': df['phi'].to_numpy(), # phi in gwfast\n",
    "    'dec': df['dec'].to_numpy(), \n",
    "    'psi': df['psi'].to_numpy(),\n",
    "    'phase': df['Phicoal'].to_numpy(),\n",
    "    'geocent_time': df['tGPS'].to_numpy(),\n",
    "    'a_1':df['chi1z'].to_numpy(), \n",
    "    'a_2':df['chi2z'].to_numpy(), \n",
    "    'lambda_1':df['Lambda1'].to_numpy(), \n",
    "    'lambda_2':df['Lambda2'].to_numpy()}\n",
    "\n",
    "pop_parameters = pd.DataFrame(pop_parameters)\n",
    "\n",
    "network = gw.detection.Network(detectors_ids, detection_SNR=threshold_SNR, parameters=pop_parameters,\n",
    "                                   fisher_parameters=fisher_parameters, config=ConfigDet)\n",
    "pop_parameters"
   ]
  },
  {
   "cell_type": "code",
   "execution_count": null,
   "id": "c9e2cdf5",
   "metadata": {},
   "outputs": [],
   "source": [
    "for k in tqdm(np.arange(len(pop_parameters))):\n",
    "  parameter_values = pop_parameters.iloc[k]\n",
    "\n",
    "  networkSNR_sq = 0\n",
    "  for d in np.arange(len(network.detectors)):\n",
    "    wave, t_of_f = gw.waveforms.hphc_amplitudes(waveform_model, parameter_values,\n",
    "                                                network.detectors[d].frequencyvector)\n",
    "    signal = gw.detection.projection(parameter_values, network.detectors[d], wave, t_of_f)\n",
    "\n",
    "    SNRs = gw.detection.SNR(network.detectors[d], signal, duty_cycle=duty_cycle)\n",
    "    networkSNR_sq += np.sum(SNRs ** 2)\n",
    "    network.detectors[d].SNR[k] = np.sqrt(np.sum(SNRs ** 2))\n",
    "\n",
    "    if calculate_errors:\n",
    "      network.detectors[d].fisher_matrix[k, :, :] = \\\n",
    "              gw.fishermatrix.FisherMatrix(waveform_model, parameter_values, fisher_parameters, network.detectors[d])\n",
    "\n",
    "  network.SNR[k] = np.sqrt(networkSNR_sq)\n",
    "\n",
    "gw.detection.analyzeDetections(network, pop_parameters, population, networks_ids)\n",
    "\n",
    "if calculate_errors:\n",
    "  gw.fishermatrix.analyzeFisherErrors(network, pop_parameters, fisher_parameters, population, networks_ids)"
   ]
  },
  {
   "cell_type": "code",
   "execution_count": null,
   "id": "9daa2758",
   "metadata": {},
   "outputs": [],
   "source": [
    "errors = pd.read_csv('Errors_ET_%s_SNR%s.txt' %(population, threshold_SNR[1]), delimiter = ' ')\n",
    "print(errors.keys())"
   ]
  },
  {
   "cell_type": "markdown",
   "id": "39a8e6d0",
   "metadata": {},
   "source": [
    "## Plots of injected data"
   ]
  },
  {
   "cell_type": "code",
   "execution_count": null,
   "id": "756d4787",
   "metadata": {},
   "outputs": [],
   "source": [
    "plt.hist(errors['network_SNR'], bins = 25, alpha = 0.5)\n",
    "plt.xlabel('SNR')\n",
    "plt.ylabel('number of events')\n",
    "plt.grid(linestyle='dotted', linewidth='0.6', which='both')\n",
    "\n",
    "plt.show()"
   ]
  },
  {
   "cell_type": "code",
   "execution_count": null,
   "id": "1ae38a84",
   "metadata": {},
   "outputs": [],
   "source": [
    "plt.hist(errors['mass_1'], bins = 25, label = 'mass_1', alpha= 0.5)\n",
    "plt.hist(errors['mass_2'], bins = 25, label = 'mass_2', alpha= 0.5)\n",
    "plt.legend()\n",
    "plt.xlabel('mass [$M_{\\odot}$]')\n",
    "plt.ylabel('number of events')\n",
    "plt.grid(which = 'both', color = 'lightgray', alpha = 0.5, linewidth = 0.5)\n",
    "plt.show()"
   ]
  },
  {
   "cell_type": "code",
   "execution_count": null,
   "id": "1b09829a",
   "metadata": {},
   "outputs": [],
   "source": [
    "# Cut the results to max sky_loc = whole_sky\n",
    "whole_sky = 4 * np.pi\n",
    "errors = errors.loc[errors['err_sky_location'] <= whole_sky]\n",
    "\n",
    "sky_loc_conv = 4.6 * (180. / np.pi)**2\n",
    "sc = plt.scatter(errors['err_luminosity_distance']/errors['luminosity_distance'],\n",
    "                 sky_loc_conv * errors['err_sky_location'],\n",
    "                 c = errors['network_SNR'], cmap = 'inferno')\n",
    "plt.xscale('log')\n",
    "plt.yscale('log')\n",
    "plt.xlabel('$\\Delta d_L/d_L$')\n",
    "plt.ylabel('$\\Delta \\Omega_{90}$')\n",
    "plt.colorbar(sc, label = 'SNR')\n",
    "plt.grid(which = 'both', color = 'lightgray', alpha = 0.5, linewidth = 0.5)\n",
    "plt.show()"
   ]
  },
  {
   "cell_type": "code",
   "execution_count": null,
   "id": "805fc014",
   "metadata": {},
   "outputs": [],
   "source": [
    "plt.hist(errors['err_theta_jn']/errors['theta_jn'], bins = np.logspace(-2, 2, 50), alpha = 0.5)\n",
    "plt.xscale('log')\n",
    "plt.xlabel('$\\Delta \\iota/\\iota$')\n",
    "plt.ylabel('number of events')\n",
    "plt.grid(which = 'both', color = 'lightgray', alpha = 0.5, linewidth = 0.5)\n",
    "plt.show()"
   ]
  },
  {
   "cell_type": "code",
   "execution_count": null,
   "id": "ba5373b2",
   "metadata": {},
   "outputs": [],
   "source": [
    "plt.hist(errors['err_luminosity_distance']/errors['luminosity_distance'], bins = np.logspace(-2, 2, 50), alpha = 0.5)\n",
    "plt.xscale('log')\n",
    "plt.xlabel('$\\Delta d_L/d_L$')\n",
    "plt.ylabel('number of events')\n",
    "plt.grid(which = 'both', color = 'lightgray', alpha = 0.5, linewidth = 0.5)\n",
    "plt.show()"
   ]
  }
 ],
 "metadata": {
  "kernelspec": {
   "display_name": "Python 3 (ipykernel)",
   "language": "python",
   "name": "python3"
  },
  "language_info": {
   "codemirror_mode": {
    "name": "ipython",
    "version": 3
   },
   "file_extension": ".py",
   "mimetype": "text/x-python",
   "name": "python",
   "nbconvert_exporter": "python",
   "pygments_lexer": "ipython3",
   "version": "3.10.9"
  }
 },
 "nbformat": 4,
 "nbformat_minor": 5
}
